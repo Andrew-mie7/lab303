{
 "cells": [
  {
   "cell_type": "markdown",
   "metadata": {},
   "source": [
    "# Tutorial: Stack and Queue"
   ]
  },
  {
   "cell_type": "code",
   "execution_count": 1,
   "metadata": {},
   "outputs": [],
   "source": [
    "__author__ = \"Allenyummy\"\n",
    "__date__ = \"May 15, 2020\""
   ]
  },
  {
   "cell_type": "markdown",
   "metadata": {},
   "source": [
    "## Stack\n",
    "1. Last In First Out / First In Last Out\n",
    "2. Implement Stack class by list."
   ]
  },
  {
   "cell_type": "code",
   "execution_count": 2,
   "metadata": {},
   "outputs": [],
   "source": [
    "class Stack:\n",
    "    def __init__(self):\n",
    "        self.items = list()\n",
    "    \n",
    "    def isEmpty(self):\n",
    "        return self.items == []\n",
    "    \n",
    "    def push(self, item):\n",
    "        self.items.append(item)\n",
    "    \n",
    "    def pop(self):\n",
    "        return self.items.pop()\n",
    "    \n",
    "    def peek(self):\n",
    "        return self.items[-1] if not self.isEmpty() else None\n",
    "    \n",
    "    def size(self):\n",
    "        return len(self.items)"
   ]
  },
  {
   "cell_type": "code",
   "execution_count": 3,
   "metadata": {},
   "outputs": [
    {
     "name": "stdout",
     "output_type": "stream",
     "text": [
      "Is stack empty ?  True.\n",
      "After push three elements, now stack contains: [5, 10, -3].\n",
      "Top element of stack is -3.\n",
      "\n",
      "Now stack contains: [5, 10, -3]\n",
      "Pop top element: -3\n",
      "Now stack contains: [5, 10]\n",
      "Now stack size is : 2\n"
     ]
    }
   ],
   "source": [
    "stack = Stack()\n",
    "print (f'Is stack empty ?  {stack.isEmpty()}.')\n",
    "\n",
    "stack.push(5)\n",
    "stack.push(10)\n",
    "stack.push(-3)\n",
    "print (f'After push three elements, now stack contains: {stack.items}.')\n",
    "print (f'Top element of stack is {stack.peek()}.')\n",
    "print ()\n",
    "print (f'Now stack contains: {stack.items}')\n",
    "print (f'Pop top element: {stack.pop()}')\n",
    "print (f'Now stack contains: {stack.items}')\n",
    "print (f'Now stack size is : {stack.size()}')"
   ]
  },
  {
   "cell_type": "markdown",
   "metadata": {},
   "source": [
    "## Queue\n",
    "1. First In First Out / Last In Last Out\n",
    "2. Implement Queue class by list."
   ]
  },
  {
   "cell_type": "code",
   "execution_count": 4,
   "metadata": {},
   "outputs": [],
   "source": [
    "class Queue:\n",
    "    def __init__(self):\n",
    "        self.items = list()\n",
    "    \n",
    "    def isEmpty(self):\n",
    "        return self.items == []\n",
    "    \n",
    "    def enqueue(self, item):\n",
    "        self.items.insert(0, item)\n",
    "    \n",
    "    def dequeue(self):\n",
    "        return self.items.pop()\n",
    "    \n",
    "    def front(self):\n",
    "        return self.items[0] if not self.isEmpty() else None\n",
    "    \n",
    "    def rear(self):\n",
    "        return self.items[-1] if not self.isEmpty() else None\n",
    "    \n",
    "    def size(self):\n",
    "        return len(self.items)"
   ]
  },
  {
   "cell_type": "code",
   "execution_count": 5,
   "metadata": {},
   "outputs": [
    {
     "name": "stdout",
     "output_type": "stream",
     "text": [
      "Is queue empty ?  True.\n",
      "After enqueue three elements, now queue contains: [-3, 10, 5].\n",
      "Front element of queue is -3.\n",
      "Rear element of queue is 5.\n",
      "\n",
      "Dequeue rear element: 5\n",
      "Now queue contains: [-3, 10]\n",
      "Now queue size is : 2\n"
     ]
    }
   ],
   "source": [
    "queue = Queue()\n",
    "print (f'Is queue empty ?  {queue.isEmpty()}.')\n",
    "\n",
    "queue.enqueue(5)\n",
    "queue.enqueue(10)\n",
    "queue.enqueue(-3)\n",
    "print (f'After enqueue three elements, now queue contains: {queue.items}.')\n",
    "print (f'Front element of queue is {queue.front()}.')\n",
    "print (f'Rear element of queue is {queue.rear()}.')\n",
    "print ()\n",
    "print (f'Dequeue rear element: {queue.dequeue()}')\n",
    "print (f'Now queue contains: {queue.items}')\n",
    "print (f'Now queue size is : {queue.size()}')"
   ]
  }
 ],
 "metadata": {
  "kernelspec": {
   "display_name": "Python 3",
   "language": "python",
   "name": "python3"
  },
  "language_info": {
   "codemirror_mode": {
    "name": "ipython",
    "version": 3
   },
   "file_extension": ".py",
   "mimetype": "text/x-python",
   "name": "python",
   "nbconvert_exporter": "python",
   "pygments_lexer": "ipython3",
   "version": "3.7.1"
  }
 },
 "nbformat": 4,
 "nbformat_minor": 2
}
