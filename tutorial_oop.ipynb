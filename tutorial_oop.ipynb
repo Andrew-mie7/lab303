{
 "cells": [
  {
   "cell_type": "markdown",
   "metadata": {},
   "source": [
    "# Tutorial: object oriented programming (OOP)"
   ]
  },
  {
   "cell_type": "code",
   "execution_count": 56,
   "metadata": {},
   "outputs": [],
   "source": [
    "__author__ = \"Allenyummy\"\n",
    "__date__ = \"May 8, 2020\""
   ]
  },
  {
   "cell_type": "markdown",
   "metadata": {},
   "source": [
    "## Three concepts of OOP\n",
    "1. Encapsulation\n",
    "2. Inheritance\n",
    "3. Polymorphism"
   ]
  },
  {
   "cell_type": "markdown",
   "metadata": {},
   "source": [
    "## Encapsulation\n",
    "It describes the idea of wrapping data and the methods that work on data. The idea of wrapping restricts the public access of variables and methods directly and prevents from modifying the data or methods accidentally."
   ]
  },
  {
   "cell_type": "markdown",
   "metadata": {},
   "source": [
    "#### Create a class of Human\n",
    "The class of Human contains:\n",
    "1. public variables: h, w, a, gender\n",
    "2. protected varaibles: \\_bmr\\_coeff\n",
    "3. functions with self as input parameters: BMI(), BMR()"
   ]
  },
  {
   "cell_type": "code",
   "execution_count": 57,
   "metadata": {},
   "outputs": [],
   "source": [
    "class Human(object):\n",
    "    \n",
    "    ## The __init__ method is a constructor. \n",
    "    ## The object of Human class is instantiated when it's constructed.\n",
    "    def __init__(self, height: float, weight: float, age: int, gender: str) -> None:\n",
    "        self.h = height\n",
    "        self.w = weight\n",
    "        self.a = age\n",
    "        \n",
    "        if gender == 'male':\n",
    "            self.gender = gender\n",
    "            self._bmr_coeff = [13.7, 5.0, -6.8, 66] ## a single leading underscore means it's for internal use only.            \n",
    "        elif gender == 'female':\n",
    "            self.gender = gender\n",
    "            self._bmr_coeff = [9.6, 1.8, -4.7, 655]            \n",
    "        else:\n",
    "            raise Exception ('Gender must be \"male\" or \"female\".')    \n",
    "    \n",
    "    def BMI(self) -> float:\n",
    "        bmi = round(self.w/(self.h/100)**2, 2)  ## round the float number to only 2 decimals        \n",
    "        return bmi\n",
    "    \n",
    "    def BMR(self) -> float:\n",
    "        bmr = 0\n",
    "        for coeff, element in zip(self._bmr_coeff, [self.w, self.h, self.a, 1]):\n",
    "            bmr += coeff * element\n",
    "        return bmr"
   ]
  },
  {
   "cell_type": "markdown",
   "metadata": {},
   "source": [
    "#### Create objects of allen and summer from a class of Human"
   ]
  },
  {
   "cell_type": "code",
   "execution_count": 58,
   "metadata": {},
   "outputs": [],
   "source": [
    "allen = Human(171, 66.4, 24, 'male')  ## allen is an object of Human class.\n",
    "summer = Human(160, 48.2, 24, 'female') ## summer is an object of Human class."
   ]
  },
  {
   "cell_type": "markdown",
   "metadata": {},
   "source": [
    "#### Call functions"
   ]
  },
  {
   "cell_type": "code",
   "execution_count": 59,
   "metadata": {},
   "outputs": [
    {
     "name": "stdout",
     "output_type": "stream",
     "text": [
      "Allen's BMI is 22.71.\n",
      "Allen's BMR is 1667.48.\n",
      "Summer's BMI is 18.83.\n",
      "Summer's BMR is 1292.92.\n"
     ]
    }
   ],
   "source": [
    "a_bmi = allen.BMI()\n",
    "a_bmr = allen.BMR()\n",
    "print (f\"Allen's BMI is {a_bmi}.\")\n",
    "print (f\"Allen's BMR is {a_bmr}.\")\n",
    "\n",
    "s_bmi = summer.BMI()\n",
    "s_bmr = summer.BMR()\n",
    "print (f\"Summer's BMI is {s_bmi}.\")\n",
    "print (f\"Summer's BMR is {s_bmr}.\")"
   ]
  },
  {
   "cell_type": "markdown",
   "metadata": {},
   "source": [
    "## Inheritance\n",
    "Inheritance allows us to define a class that inherits all the methods and properties from another class."
   ]
  },
  {
   "cell_type": "markdown",
   "metadata": {},
   "source": [
    "#### Create the child class of Man and Woman inherits the parent class of Human\n",
    "\n",
    "Compared with the above class of Human, I take out the parameter of gender and create two child class of Man and Woman to inherit the parent class of Human.\n",
    "\n",
    "The parent class of Human contains:\n",
    "1. public variables: h, w, a\n",
    "2. functions with self as input parameters: BMI(), Athletic_ability()\n",
    "\n",
    "The child class of Man contains:\n",
    "1. inherited variables: h, w, a\n",
    "2. protected varaibles: \\_bmr\\_coeff\n",
    "3. functions with self as input parameters: BMR()\n",
    "\n",
    "The child class of Woman contains:\n",
    "1. inherited variables: h, w, a\n",
    "2. protected varaibles: \\_bmr\\_coeff\n",
    "3. functions with self as input parameters: BMR()"
   ]
  },
  {
   "cell_type": "code",
   "execution_count": 60,
   "metadata": {},
   "outputs": [],
   "source": [
    "class Human(object):\n",
    "    def __init__(self, height: float, weight: float, age: int) -> None:\n",
    "        self.h = height\n",
    "        self.w = weight\n",
    "        self.a = age  \n",
    "    \n",
    "    def BMI(self) -> float:\n",
    "        bmi = round(self.w/(self.h/100)**2, 2)  \n",
    "        return bmi\n",
    "    \n",
    "    def Athletic_ability(self, practice: bool) -> str:\n",
    "        if practice:\n",
    "            return 'good'\n",
    "        else:\n",
    "            return 'bad'\n",
    "\n",
    "class Man(Human):\n",
    "    def __init__(self, height: float, weight: float, age: int) -> None:\n",
    "        super().__init__(height, weight, age)\n",
    "        self._bmr_coeff = [13.7, 5.0, -6.8, 66] \n",
    "        \n",
    "    def BMR(self) -> float:\n",
    "        bmr = 0\n",
    "        for coeff, element in zip(self._bmr_coeff, [self.w, self.h, self.a, 1]):\n",
    "            bmr += coeff * element\n",
    "        return bmr\n",
    "    \n",
    "class Woman(Human):\n",
    "    def __init__(self, height: float, weight: float, age: int) -> None:\n",
    "        super().__init__(height, weight, age)\n",
    "        self._bmr_coeff = [9.6, 1.8, -4.7, 655]\n",
    "        \n",
    "    def BMR(self) -> float:\n",
    "        bmr = 0\n",
    "        for coeff, element in zip(self._bmr_coeff, [self.w, self.h, self.a, 1]):\n",
    "            bmr += coeff * element\n",
    "        return bmr"
   ]
  },
  {
   "cell_type": "markdown",
   "metadata": {},
   "source": [
    "#### Create an object of allen from a class of Man and an object of summer from a class of Woman"
   ]
  },
  {
   "cell_type": "code",
   "execution_count": 61,
   "metadata": {},
   "outputs": [],
   "source": [
    "allen = Man(171, 66.4, 24)  ## allen is an object of Man class.\n",
    "summer = Woman(160, 48.2, 24) ## summer is an object of Woman class."
   ]
  },
  {
   "cell_type": "markdown",
   "metadata": {},
   "source": [
    "#### Call functions"
   ]
  },
  {
   "cell_type": "code",
   "execution_count": 62,
   "metadata": {},
   "outputs": [
    {
     "name": "stdout",
     "output_type": "stream",
     "text": [
      "Allen's BMI is 22.71.\n",
      "Allen's BMR is 1667.48.\n",
      "Allen's athletic ability is good. (parent class)\n",
      "Summer's BMI is 18.83.\n",
      "Summer's BMR is 1292.92.\n",
      "Summer's athletic ability is bad. (parent class)\n"
     ]
    }
   ],
   "source": [
    "a_bmi = allen.BMI()    ## allen can also call the function of parent class.\n",
    "a_bmr = allen.BMR()\n",
    "a_atheletic_ability = allen.Athletic_ability(True)\n",
    "print (f\"Allen's BMI is {a_bmi}.\")\n",
    "print (f\"Allen's BMR is {a_bmr}.\")\n",
    "print (f\"Allen's athletic ability is {a_atheletic_ability}. (parent class)\")\n",
    "\n",
    "s_bmi = summer.BMI()\n",
    "s_bmr = summer.BMR()\n",
    "s_atheletic_ability = summer.Athletic_ability(False)\n",
    "print (f\"Summer's BMI is {s_bmi}.\")\n",
    "print (f\"Summer's BMR is {s_bmr}.\")\n",
    "print (f\"Summer's athletic ability is {s_atheletic_ability}. (parent class)\")"
   ]
  },
  {
   "cell_type": "markdown",
   "metadata": {},
   "source": [
    "## Polymorphism\n",
    "It means same function name (but different signatures) being uses for different types."
   ]
  },
  {
   "cell_type": "markdown",
   "metadata": {},
   "source": [
    "#### Create the child class of Man and Woman inherits the parent class of Human\n",
    "\n",
    "I add the function of Athletic_ability to show how polymorphism works.\n",
    "\n",
    "The parent class of Human contains:\n",
    "1. public variables: h, w, a\n",
    "2. functions with self as input parameters: BMI(), Athletic_ability()\n",
    "\n",
    "The child class of Man contains:\n",
    "1. inherited variables: h, w, a\n",
    "2. protected varaibles: \\_bmr\\_coeff\n",
    "3. functions with self as input parameters: BMR(), Athletic_ability()\n",
    "\n",
    "The child class of Woman contains:\n",
    "1. inherited variables: h, w, a\n",
    "2. protected varaibles: \\_bmr\\_coeff\n",
    "3. functions with self as input parameters: BMR(), Athletic_ability()"
   ]
  },
  {
   "cell_type": "code",
   "execution_count": 63,
   "metadata": {},
   "outputs": [],
   "source": [
    "class Human(object):\n",
    "    def __init__(self, height: float, weight: float, age: int) -> None:\n",
    "        self.h = height\n",
    "        self.w = weight\n",
    "        self.a = age  \n",
    "    \n",
    "    def BMI(self) -> float:\n",
    "        bmi = round(self.w/(self.h/100)**2, 2)  \n",
    "        return bmi\n",
    "    \n",
    "    def Athletic_ability(self, practice: bool) -> str:\n",
    "        if practice:\n",
    "            return 'good'\n",
    "        else:\n",
    "            return 'bad'\n",
    "\n",
    "class Man(Human):\n",
    "    def __init__(self, height: float, weight: float, age: int) -> None:\n",
    "        super().__init__(height, weight, age)\n",
    "        self._bmr_coeff = [13.7, 5.0, -6.8, 66] \n",
    "        \n",
    "    def BMR(self) -> float:\n",
    "        bmr = 0\n",
    "        for coeff, element in zip(self._bmr_coeff, [self.w, self.h, self.a, 1]):\n",
    "            bmr += coeff * element\n",
    "        return bmr\n",
    "    \n",
    "    def Athletic_ability(self, practice: bool, food: bool) -> str:\n",
    "        if practice and food:\n",
    "            return 'great'\n",
    "        elif practice or food:\n",
    "            return 'ok'\n",
    "        else:\n",
    "            return 'bad'\n",
    "    \n",
    "class Woman(Human):\n",
    "    def __init__(self, height: float, weight: float, age: int) -> None:\n",
    "        super().__init__(height, weight, age)\n",
    "        self._bmr_coeff = [9.6, 1.8, -4.7, 655]\n",
    "        \n",
    "    def BMR(self) -> float:\n",
    "        bmr = 0\n",
    "        for coeff, element in zip(self._bmr_coeff, [self.w, self.h, self.a, 1]):\n",
    "            bmr += coeff * element\n",
    "        return bmr\n",
    "    \n",
    "    def Athletic_ability(self, practice: bool, food: bool) -> str:\n",
    "        if practice and food:\n",
    "            return 'great'\n",
    "        elif practice or food:\n",
    "            return 'ok'\n",
    "        else:\n",
    "            return 'bad'"
   ]
  },
  {
   "cell_type": "markdown",
   "metadata": {},
   "source": [
    "#### Create an object of allen from a class of Man and an object of summer from a class of Woman"
   ]
  },
  {
   "cell_type": "code",
   "execution_count": 64,
   "metadata": {},
   "outputs": [],
   "source": [
    "allen = Man(171, 66.4, 24) \n",
    "summer = Woman(160, 48.2, 24) "
   ]
  },
  {
   "cell_type": "markdown",
   "metadata": {},
   "source": [
    "#### Call functions"
   ]
  },
  {
   "cell_type": "code",
   "execution_count": 65,
   "metadata": {},
   "outputs": [
    {
     "name": "stdout",
     "output_type": "stream",
     "text": [
      "Allen's BMI is 22.71.\n",
      "Allen's BMR is 1667.48.\n",
      "Allen's athletic ability is great. (child class)\n",
      "Summer's BMI is 18.83.\n",
      "Summer's BMR is 1292.92.\n",
      "Summer's athletic ability is ok. (child class)\n"
     ]
    }
   ],
   "source": [
    "a_bmi = allen.BMI()    \n",
    "a_bmr = allen.BMR()\n",
    "a_atheletic_ability = allen.Athletic_ability(True, True) ## call function of child class\n",
    "print (f\"Allen's BMI is {a_bmi}.\")\n",
    "print (f\"Allen's BMR is {a_bmr}.\")\n",
    "print (f\"Allen's athletic ability is {a_atheletic_ability}. (child class)\")\n",
    "\n",
    "s_bmi = summer.BMI()\n",
    "s_bmr = summer.BMR()\n",
    "s_atheletic_ability = summer.Athletic_ability(False, True)\n",
    "\n",
    "print (f\"Summer's BMI is {s_bmi}.\")\n",
    "print (f\"Summer's BMR is {s_bmr}.\")\n",
    "print (f\"Summer's athletic ability is {s_atheletic_ability}. (child class)\")"
   ]
  }
 ],
 "metadata": {
  "kernelspec": {
   "display_name": "Python 3",
   "language": "python",
   "name": "python3"
  },
  "language_info": {
   "codemirror_mode": {
    "name": "ipython",
    "version": 3
   },
   "file_extension": ".py",
   "mimetype": "text/x-python",
   "name": "python",
   "nbconvert_exporter": "python",
   "pygments_lexer": "ipython3",
   "version": "3.7.1"
  }
 },
 "nbformat": 4,
 "nbformat_minor": 2
}
